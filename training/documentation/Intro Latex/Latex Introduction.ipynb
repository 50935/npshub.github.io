{
 "cells": [
  {
   "cell_type": "markdown",
   "metadata": {},
   "source": [
    "# Introduction to LaTex\n",
    "![img](https://upload.wikimedia.org/wikipedia/commons/thumb/4/45/LaTeX_project_logo_bird.svg/1920px-LaTeX_project_logo_bird.svg.png)\n"
   ]
  },
  {
   "cell_type": "markdown",
   "metadata": {},
   "source": [
    "\n",
    "### LaTeX is a high quality typesetting system which can produce modern technical and scientific documents such as article, report, thesis, term paper, project work, book, and beamer presentation.\n",
    "*  Developed by Leslie B. Lamport (born February 7, 1941) is an American computer scientist.\t\n",
    "![img](https://upload.wikimedia.org/wikipedia/commons/5/50/Leslie_Lamport.jpg)\n",
    "[Link:](https://upload.wikimedia.org/wikipedia/commons/5/50/Leslie_Lamport.jpg)\n",
    "*  Uses commands to create mathematical symbols.\n",
    "* \tMicrosoft Word is based on a principle called ``What you see is what you get''(WYSIWYG), which means that the user immediately sees the document on the screen as it will appear on the printed page.\n",
    "*  LaTeX is based on the principle of ``What you get is what you mean''(WYGIWYM), which implies that the document is not directly displayed on the screen and changes, such as format settings, are not immediately visible.\n",
    "*  The final document is obtained by converting the source file (.tex file) into a pdf file.\n",
    "*  It is widely used in academia for the communication and publication of scientific and technical documents.\n",
    "### References:\n",
    "* Knauff, M., \\& Nejasmic, J., An Efficiency Comparison of Document Preparation Systems Used in Academic Research and Development. PloS one, 9(12), (2014)."
   ]
  },
  {
   "cell_type": "markdown",
   "metadata": {},
   "source": [
    "# Why not MS Word?"
   ]
  },
  {
   "cell_type": "markdown",
   "metadata": {},
   "source": [
    "![img](https://www.johndcook.com/wordvslatex.gif)\n",
    "[Image source:](https://www.johndcook.com/wordvslatex.gif)\n",
    "![img](LW.png)\n",
    "![img](logo.png)"
   ]
  },
  {
   "cell_type": "markdown",
   "metadata": {},
   "source": [
    "# Documents"
   ]
  },
  {
   "cell_type": "markdown",
   "metadata": {},
   "source": [
    "*  Article\n",
    "*  Book\n",
    "* Report\n",
    "* Thesis(Master, PhD)\n",
    "*  Term Paper\n",
    "*  Manual\n",
    "* Tech Report\n",
    "* Project Work\n",
    "*  Miscellaneous"
   ]
  },
  {
   "cell_type": "markdown",
   "metadata": {},
   "source": [
    "## Latex Documents\n",
    "\n",
    "![img](LD.png)"
   ]
  },
  {
   "cell_type": "markdown",
   "metadata": {},
   "source": [
    "## Thesis\n",
    "![img](MT.png)\n",
    "![img](TP.png)"
   ]
  },
  {
   "cell_type": "markdown",
   "metadata": {},
   "source": [
    "## WinEdit"
   ]
  },
  {
   "cell_type": "markdown",
   "metadata": {},
   "source": [
    "\n",
    "WinEdt is a powerful and versatile all-purpose text\n",
    "editor for Windows with a strong predisposition\n",
    "towards the creation and compilation of LaTeX\n",
    "documents...\n",
    "![img](WE1.png)\n",
    "[Source:](https://www.winedt.com/)\n"
   ]
  },
  {
   "cell_type": "markdown",
   "metadata": {},
   "source": [
    "## WinEdit(Cont..)\n",
    "\n"
   ]
  },
  {
   "cell_type": "markdown",
   "metadata": {},
   "source": [
    "![img](WE.png)\n",
    "[Source:](https://www.winedt.com/)"
   ]
  },
  {
   "cell_type": "markdown",
   "metadata": {},
   "source": [
    "## Texmaker\n",
    " Texmaker is a free, modern and cross-platform LaTeX editor\n",
    "for linux, macosx and windows systems that integrates many\n",
    "tools needed to develop documents with LaTeX, in just one\n",
    "application.\n",
    "![img](Te.png)\n",
    "[Source:](https://www.xm1math.net/texmaker/shots.html)\n"
   ]
  },
  {
   "cell_type": "markdown",
   "metadata": {},
   "source": [
    "## TeXstudio\n",
    " TeXstudio is an integrated writing environment for creating LaTeX documents. Our goal is to make writing LaTeX as easy and comfortable as possible. Therefore TeXstudio has numerous features like syntax-highlighting, integrated viewer, reference checking and various assistants.\n",
    "## How to install in my PC?\n",
    "### For Ubuntu Linux:  Use command\n",
    "* Ctrl + Alt + T\n",
    "* sudo apt-get update\n",
    "* sudo apt-get install texstudio\n",
    "* Type texstudio\n",
    "\n",
    "### For windows & mac users:  download texstudio and miktex install\n",
    "* texstudio: https://texstudio.org/\n",
    "* miktex:   https://miktex.org/download\n",
    "[Source:](https://www.texstudio.org/)\n"
   ]
  },
  {
   "cell_type": "markdown",
   "metadata": {},
   "source": [
    "![img](F.png)"
   ]
  },
  {
   "cell_type": "markdown",
   "metadata": {},
   "source": [
    "![img](1.png)"
   ]
  },
  {
   "cell_type": "markdown",
   "metadata": {},
   "source": [
    "## TeXstudio(Thesis/Report)\n",
    "\n",
    "![img](Th1.png)\n",
    "\n",
    "\n",
    "## TeXstudio(Proposal)\n",
    "![img](Pr.png)\n",
    "\n",
    "![img](Pr1.png)\n",
    "## TeXstudio(Beamer Presentation)}\n",
    "![img](TS.png)\n",
    "\t\t\n",
    "![img](Be.png)\n",
    "\n"
   ]
  },
  {
   "cell_type": "markdown",
   "metadata": {},
   "source": [
    "## How to type Mathematics?\n",
    "![img](HM.png)\n",
    "\n",
    "\t\t"
   ]
  },
  {
   "cell_type": "markdown",
   "metadata": {},
   "source": [
    "##  How to type Equations?\n"
   ]
  },
  {
   "cell_type": "markdown",
   "metadata": {},
   "source": [
    " ![img](EQ1.png)\n",
    "\n",
    " $x = \\frac{-b \\pm \\sqrt{b^2 - 4ac}}{2a}$\n",
    "\n",
    "$\\frac{d^2\\psi}{dx^2} + \\frac{2m}{\\hbar^2}(E - V)\\psi = 0$\n",
    "    \n",
    "  ![img](EQ.png)\n",
    "\n",
    "\t\t\n",
    "\n",
    "$(\\nabla^{2} - \\frac{1}{c^2}\\frac{{\\partial}^2}{{\\partial}t^2})G(\\textbf{X}-\n",
    "\t\t\t\\textbf{X}', t-t') = - {\\delta}(\\textbf{X}-\\textbf{X}', t-t')\\delta(t - t')$\n"
   ]
  },
  {
   "cell_type": "markdown",
   "metadata": {},
   "source": [
    "## Research Missconduct\n",
    "![img](MC.png)\n",
    "[Source:](Gilbert, F. J., \\& Denison, A. R. (2003). Research Misconduct. Clinical Radiology, 58(7), 499–504. doi:10.1016/s0009-9260(03)00176-4)"
   ]
  },
  {
   "cell_type": "markdown",
   "metadata": {},
   "source": [
    "## Home Work (Proposal Writing)\n",
    "\n",
    "*  Everybody talking about economy crisis these days in Nepal. Develop a research proposal requesting for research grant to the Research Division of Tribhuvan University on one of the topics related to the economy growth of country like Nepal.\n",
    "*  Modern era is the science and technology era Need of supercomputer is essential in your physics department. Develop a research proposal requesting for grant to the Research Division of University Grant Commission. \n",
    "*  Develop a proposal with essential components for M.Sc. Thesis on any relevant topic related to Interstellar Medium to B.P. Koirala Memorial Planetarium, Science Museum development Board,Nepal"
   ]
  },
  {
   "cell_type": "markdown",
   "metadata": {},
   "source": [
    "                                           *** Thank You Very Much !!!***\n",
    " ![img](Thn.png)"
   ]
  },
  {
   "cell_type": "markdown",
   "metadata": {},
   "source": [
    "## Conversion and plots"
   ]
  },
  {
   "cell_type": "code",
   "execution_count": 22,
   "metadata": {},
   "outputs": [
    {
     "name": "stdout",
     "output_type": "stream",
     "text": [
      "50.0 degree Celsius is equal to 122.0 degree Fahrenheit\n"
     ]
    }
   ],
   "source": [
    "# Python Program to convert temperature in celsius to fahrenheit\n",
    "\n",
    "# change this value for a different result\n",
    "celsius = 50\n",
    "\n",
    "# calculate fahrenheit\n",
    "fahrenheit = (celsius * 1.8) + 32\n",
    "print('%0.1f degree Celsius is equal to %0.1f degree Fahrenheit' %(celsius,fahrenheit))"
   ]
  },
  {
   "cell_type": "markdown",
   "metadata": {},
   "source": [
    "## Few plots"
   ]
  },
  {
   "cell_type": "code",
   "execution_count": 54,
   "metadata": {},
   "outputs": [
    {
     "data": {
      "image/png": "[encoded data removed]",
      "text/plain": [
       "<Figure size 432x288 with 1 Axes>"
      ]
     },
     "metadata": {
      "needs_background": "light"
     },
     "output_type": "display_data"
    }
   ],
   "source": [
    "import numpy as np\n",
    "\n",
    "import matplotlib.pyplot as plot\n",
    "\n",
    " \n",
    "\n",
    "# Get x values of the sine wave\n",
    "\n",
    "time        = np.arange(0, 10, 0.1);\n",
    "\n",
    " \n",
    "\n",
    "# Amplitude of the sine wave is sine of a variable like time\n",
    "\n",
    "amplitude   = np.sin(time)\n",
    "\n",
    " \n",
    "\n",
    "# Plot a sine wave using time and amplitude obtained for the sine wave\n",
    "\n",
    "plot.plot(time, amplitude)\n",
    "\n",
    " \n",
    "\n",
    "# Give a title for the sine wave plot\n",
    "\n",
    "plot.title('Sine wave')\n",
    "\n",
    " \n",
    "\n",
    "# Give x axis label for the sine wave plot\n",
    "\n",
    "plot.xlabel('Time')\n",
    "\n",
    " \n",
    "\n",
    "# Give y axis label for the sine wave plot\n",
    "\n",
    "plot.ylabel('Amplitude = sin(time)')\n",
    "\n",
    " \n",
    "\n",
    "plot.grid(True, which='both')\n",
    "\n",
    " \n",
    "\n",
    "plot.axhline(y=0, color='k')\n",
    "\n",
    " \n",
    "\n",
    "plot.show()\n",
    "\n",
    " \n",
    "\n",
    "# Display the sine wave\n",
    "\n",
    "plot.show()"
   ]
  },
  {
   "cell_type": "code",
   "execution_count": 3,
   "metadata": {},
   "outputs": [
    {
     "data": {
      "image/png": "[encoded data removed]",
      "text/plain": [
       "<Figure size 432x288 with 1 Axes>"
      ]
     },
     "metadata": {
      "needs_background": "light"
     },
     "output_type": "display_data"
    }
   ],
   "source": [
    "import numpy as np\n",
    "\n",
    "import matplotlib.pyplot as plot\n",
    "\n",
    " \n",
    "\n",
    "# Get x values of the cosine wave\n",
    "\n",
    "time        = np.arange(0, 10, 0.1);\n",
    "\n",
    " \n",
    "\n",
    "# Amplitude of the cosine wave is sine of a variable like time\n",
    "\n",
    "amplitude   = np.cos(time)\n",
    "\n",
    " \n",
    "\n",
    "# Plot a cos wave using time and amplitude obtained for the cos wave\n",
    "\n",
    "plot.plot(time, amplitude)\n",
    "\n",
    " \n",
    "\n",
    "# Give a title for the cos wave plot\n",
    "\n",
    "plot.title('Cosine wave')\n",
    "\n",
    " \n",
    "\n",
    "# Give x axis label for the cos wave plot\n",
    "\n",
    "plot.xlabel('Time')\n",
    "\n",
    " \n",
    "\n",
    "# Give y axis label for the sine wave plot\n",
    "\n",
    "plot.ylabel('Amplitude = cos(time)')\n",
    "\n",
    " \n",
    "\n",
    "plot.grid(True, which='both')\n",
    "\n",
    " \n",
    "\n",
    "plot.axhline(y=0, color='k')\n",
    "\n",
    " \n",
    "\n",
    "plot.show()\n",
    "\n",
    " \n",
    "\n",
    "# Display the cosine wave\n",
    "\n",
    "plot.show()"
   ]
  },
  {
   "cell_type": "code",
   "execution_count": 8,
   "metadata": {},
   "outputs": [
    {
     "ename": "IndentationError",
     "evalue": "unexpected indent (<ipython-input-8-670a9ba433d0>, line 6)",
     "output_type": "error",
     "traceback": [
      "\u001b[1;36m  File \u001b[1;32m\"<ipython-input-8-670a9ba433d0>\"\u001b[1;36m, line \u001b[1;32m6\u001b[0m\n\u001b[1;33m    y = np.sin(x)\u001b[0m\n\u001b[1;37m    ^\u001b[0m\n\u001b[1;31mIndentationError\u001b[0m\u001b[1;31m:\u001b[0m unexpected indent\n"
     ]
    }
   ],
   "source": [
    "import numpy as np\n",
    "\n",
    "import matplotlib.pyplot as plot\n",
    "\n",
    "x = np.arange(0, 10, 0.1);\n",
    " y = np.sin(x)\n",
    " plot.plot(x, y)\n",
    " plt.show()"
   ]
  },
  {
   "cell_type": "code",
   "execution_count": 30,
   "metadata": {},
   "outputs": [
    {
     "data": {
      "image/png": "[encoded data removed]",
      "text/plain": [
       "<Figure size 432x288 with 1 Axes>"
      ]
     },
     "metadata": {
      "needs_background": "light"
     },
     "output_type": "display_data"
    }
   ],
   "source": [
    "import numpy as np\n",
    "import matplotlib.pyplot as plot\n",
    "x        = np.arange(0, 8*np.pi, 0.01);\n",
    "a=3;\n",
    "y  = a*np.sin(x)\n",
    "plot.plot(x, y)\n",
    "plot.xlabel('x (deg.)')\n",
    "plot.ylabel('y (m)')\n",
    "\n",
    "plot.show()"
   ]
  },
  {
   "cell_type": "code",
   "execution_count": 37,
   "metadata": {},
   "outputs": [
    {
     "data": {
      "image/png": "[encoded data removed]",
      "text/plain": [
       "<Figure size 432x288 with 1 Axes>"
      ]
     },
     "metadata": {
      "needs_background": "light"
     },
     "output_type": "display_data"
    }
   ],
   "source": [
    "import numpy as np\n",
    "import matplotlib.pyplot as plot\n",
    "x        = np.arange(0, 6*np.pi, 0.01);\n",
    "a=10;\n",
    "y  = a*np.tan(x)\n",
    "plot.plot(x, y)\n",
    "plot.xlabel('x (deg.)')\n",
    "plot.ylabel('y (m)')\n",
    "\n",
    "plot.show()"
   ]
  },
  {
   "cell_type": "markdown",
   "metadata": {},
   "source": [
    "## Covid case graph nowdays"
   ]
  },
  {
   "cell_type": "code",
   "execution_count": 40,
   "metadata": {},
   "outputs": [
    {
     "data": {
      "image/png": "[encoded data removed]",
      "text/plain": [
       "<Figure size 432x288 with 1 Axes>"
      ]
     },
     "metadata": {
      "needs_background": "light"
     },
     "output_type": "display_data"
    }
   ],
   "source": [
    "import numpy as np\n",
    "import matplotlib.pyplot as plot\n",
    "x        = np.arange(0, 1000, 1);\n",
    "a=10;\n",
    "y  = a*x**2 + 2*x +8\n",
    "plot.plot(x, y)\n",
    "plot.xlabel('x (m)')\n",
    "plot.ylabel('y (m^2)')\n",
    "\n",
    "plot.show()"
   ]
  },
  {
   "cell_type": "code",
   "execution_count": 51,
   "metadata": {},
   "outputs": [
    {
     "data": {
      "image/png": "[encoded data removed]",
      "text/plain": [
       "<Figure size 432x288 with 1 Axes>"
      ]
     },
     "metadata": {
      "needs_background": "light"
     },
     "output_type": "display_data"
    }
   ],
   "source": [
    "import numpy as np\n",
    "import matplotlib.pyplot as plot\n",
    "x        = np.arange(0, 10, 1);\n",
    "a=10;\n",
    "y  = a*np.exp(x)\n",
    "plot.plot(x, y)\n",
    "plot.xlabel('time (days)')\n",
    "plot.ylabel('Covid case')\n",
    "\n",
    "plot.show()"
   ]
  },
  {
   "cell_type": "markdown",
   "metadata": {},
   "source": [
    "## We need graph like this"
   ]
  },
  {
   "cell_type": "code",
   "execution_count": 52,
   "metadata": {},
   "outputs": [
    {
     "data": {
      "image/png": "[encoded data removed]",
      "text/plain": [
       "<Figure size 432x288 with 1 Axes>"
      ]
     },
     "metadata": {
      "needs_background": "light"
     },
     "output_type": "display_data"
    }
   ],
   "source": [
    "import numpy as np\n",
    "import matplotlib.pyplot as plot\n",
    "x        = np.arange(0, 10, 1);\n",
    "a=10;\n",
    "y  = a*np.exp(-x)\n",
    "plot.plot(x, y)\n",
    "plot.xlabel('time (days)')\n",
    "plot.ylabel('Covid case')\n",
    "\n",
    "plot.show()"
   ]
  },
  {
   "cell_type": "markdown",
   "metadata": {},
   "source": [
    "## logarathemic graph"
   ]
  },
  {
   "cell_type": "code",
   "execution_count": 62,
   "metadata": {},
   "outputs": [
    {
     "name": "stderr",
     "output_type": "stream",
     "text": [
      "C:\\ProgramData\\Anaconda3\\lib\\site-packages\\ipykernel_launcher.py:5: RuntimeWarning: divide by zero encountered in log\n",
      "  \"\"\"\n"
     ]
    },
    {
     "data": {
      "image/png": "[encoded data removed]",
      "text/plain": [
       "<Figure size 432x288 with 1 Axes>"
      ]
     },
     "metadata": {
      "needs_background": "light"
     },
     "output_type": "display_data"
    }
   ],
   "source": [
    "import numpy as np\n",
    "import matplotlib.pyplot as plot\n",
    "x        = np.arange(0, 10, 0.1);\n",
    "a=10;\n",
    "y  = a*np.log(x)\n",
    "plot.plot(x, y)\n",
    "plot.xlabel('time (days)')\n",
    "plot.ylabel('Covid case')\n",
    "plot.show()"
   ]
  },
  {
   "cell_type": "code",
   "execution_count": 69,
   "metadata": {},
   "outputs": [
    {
     "name": "stdout",
     "output_type": "stream",
     "text": [
      "0.05313807984145913 1.0701382717963346\n"
     ]
    }
   ],
   "source": [
    "from pylab import *                 # get mathematical tools\n",
    "from scipy.optimize import brentq   # get the brentq() root-finder\n",
    "\n",
    "R = 2.5\n",
    "h = 1.2\n",
    "v = 4.8 \n",
    "g = 9.8\n",
    "\n",
    "def F(theta):\n",
    "    output = v*cos(theta)/g * (v*sin(theta) + sqrt(v**2*sin(theta)**2 + 2*g*h)) - R\n",
    "    return output\n",
    "\n",
    "answer1 = brentq(F, 0.0, 0.4)\n",
    "answer2 = brentq(F, 0.8, 1.2)\n",
    "print(answer1, answer2)"
   ]
  },
  {
   "cell_type": "code",
   "execution_count": null,
   "metadata": {},
   "outputs": [],
   "source": []
  },
  {
   "cell_type": "markdown",
   "metadata": {},
   "source": [
    "                                          *** Thank You Very Much !!!***\n",
    " ![img](Thn.png)"
   ]
  },
  {
   "cell_type": "code",
   "execution_count": 3,
   "metadata": {},
   "outputs": [
    {
     "ename": "SyntaxError",
     "evalue": "Missing parentheses in call to 'print'. Did you mean print('x+y')? (<ipython-input-3-586d95bff2d3>, line 4)",
     "output_type": "error",
     "traceback": [
      "\u001b[1;36m  File \u001b[1;32m\"<ipython-input-3-586d95bff2d3>\"\u001b[1;36m, line \u001b[1;32m4\u001b[0m\n\u001b[1;33m    print 'x+y'\u001b[0m\n\u001b[1;37m              ^\u001b[0m\n\u001b[1;31mSyntaxError\u001b[0m\u001b[1;31m:\u001b[0m Missing parentheses in call to 'print'. Did you mean print('x+y')?\n"
     ]
    }
   ],
   "source": [
    "import numpy as np\n",
    "x=3\n",
    "y=4\n",
    "print 'x+y'"
   ]
  },
  {
   "cell_type": "code",
   "execution_count": 21,
   "metadata": {},
   "outputs": [
    {
     "name": "stdout",
     "output_type": "stream",
     "text": [
      "37.5 degree Celsius is equal to 41.0 Fareheniet \n"
     ]
    }
   ],
   "source": []
  },
  {
   "cell_type": "code",
   "execution_count": 18,
   "metadata": {},
   "outputs": [
    {
     "name": "stdout",
     "output_type": "stream",
     "text": [
      "1\n"
     ]
    }
   ],
   "source": [
    "x=5\n",
    "y=3\n",
    "z=x//y\n",
    "print(z)"
   ]
  },
  {
   "cell_type": "code",
   "execution_count": null,
   "metadata": {},
   "outputs": [],
   "source": []
  }
 ],
 "metadata": {
  "kernelspec": {
   "display_name": "Python 3",
   "language": "python",
   "name": "python3"
  },
  "language_info": {
   "codemirror_mode": {
    "name": "ipython",
    "version": 3
   },
   "file_extension": ".py",
   "mimetype": "text/x-python",
   "name": "python",
   "nbconvert_exporter": "python",
   "pygments_lexer": "ipython3",
   "version": "3.7.6"
  }
 },
 "nbformat": 4,
 "nbformat_minor": 4
}
