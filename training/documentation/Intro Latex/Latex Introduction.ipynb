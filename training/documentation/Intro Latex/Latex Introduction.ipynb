{
 "cells": [
  {
   "cell_type": "markdown",
   "metadata": {},
   "source": [
    "![img](https://upload.wikimedia.org/wikipedia/commons/thumb/4/45/LaTeX_project_logo_bird.svg/1920px-LaTeX_project_logo_bird.svg.png)\n",
    "*  LaTeX is a high quality typesetting system which can produce modern technical and scientific documents such as Article, Report, Thesis,Term Paper, Project work, Book, and Beamer Presentation.\n",
    "*  Developed by Leslie B. Lamport (born February 7, 1941) is an American computer scientist.\t\n",
    "![img](https://upload.wikimedia.org/wikipedia/commons/5/50/Leslie_Lamport.jpg)\n",
    "[Link:](https://upload.wikimedia.org/wikipedia/commons/5/50/Leslie_Lamport.jpg)\n",
    "*  Uses commands to create mathematical symbols.\n",
    "* \tMicrosoft Word is based on a principle called ``What you see is what you get''(WYSIWYG),\\color{blue} which means that the user immediately sees the document on the screen as it will appear on the printed page.\n",
    "*  LaTeX is based on the principle of ``What you get is what you mean''(WYGIWYM), which implies that the document is not directly displayed on the screen and changes, such as format settings, are not immediately visible.\n",
    "*  The final document is obtained by converting the source file (.tex file) into a pdf file.\n",
    "*  It is widely used in academia for the communication and publication of scientific and technical documents.\n",
    "### References:\n",
    "* Knauff, M., \\& Nejasmic, J., An Efficiency Comparison of Document Preparation Systems Used in Academic Research and Development. PloS one, 9(12), (2014)."
   ]
  },
  {
   "cell_type": "markdown",
   "metadata": {},
   "source": [
    "# Why not MS Word?"
   ]
  },
  {
   "cell_type": "markdown",
   "metadata": {},
   "source": [
    "![img](https://www.johndcook.com/wordvslatex.gif)\n",
    "[Image source:](https://www.johndcook.com/wordvslatex.gif)\n",
    "![img](LW.png)"
   ]
  },
  {
   "cell_type": "markdown",
   "metadata": {},
   "source": [
    "# Documents"
   ]
  },
  {
   "cell_type": "markdown",
   "metadata": {},
   "source": [
    "*  Article\n",
    "*  Book\n",
    "* Report\n",
    "* Thesis(Master, PhD)\n",
    "*  Term Paper\n",
    "*  Manual\n",
    "* Tech Report\n",
    "* Project Work\n",
    "*  Miscellaneous"
   ]
  },
  {
   "cell_type": "markdown",
   "metadata": {},
   "source": [
    "## Latex Documents\n",
    "\n",
    "![img](LD.png)"
   ]
  },
  {
   "cell_type": "markdown",
   "metadata": {},
   "source": [
    "## Thesis\n",
    "![img](MT.png)\n",
    "![img](TP.png)"
   ]
  },
  {
   "cell_type": "markdown",
   "metadata": {},
   "source": [
    "## WinEdit"
   ]
  },
  {
   "cell_type": "markdown",
   "metadata": {},
   "source": [
    "\n",
    "WinEdt is a powerful and versatile all-purpose text\n",
    "editor for Windows with a strong predisposition\n",
    "towards the creation and compilation of LaTeX\n",
    "documents...\n",
    "![img](WE1.png)\n",
    "[Source:](https://www.winedt.com/)\n"
   ]
  },
  {
   "cell_type": "markdown",
   "metadata": {},
   "source": [
    "## WinEdit(Cont..)\n",
    "\n"
   ]
  },
  {
   "cell_type": "markdown",
   "metadata": {},
   "source": [
    "![img](WE.png)\n",
    "[Source:](https://www.winedt.com/)"
   ]
  },
  {
   "cell_type": "markdown",
   "metadata": {},
   "source": [
    "## Texmaker\n",
    " Texmaker is a free, modern and cross-platform LaTeX editor\n",
    "for linux, macosx and windows systems that integrates many\n",
    "tools needed to develop documents with LaTeX, in just one\n",
    "application.\n",
    "![img](Te.png)\n",
    "[Source:](https://www.xm1math.net/texmaker/shots.html)\n"
   ]
  },
  {
   "cell_type": "markdown",
   "metadata": {},
   "source": [
    "## TeXstudio\n",
    " TeXstudio is an integrated writing environment for creating LaTeX documents. Our goal is to make writing LaTeX as easy and comfortable as possible. Therefore TeXstudio has numerous features like syntax-highlighting, integrated viewer, reference checking and various assistants.\n",
    "\n",
    "### For Ubuntu Linux:  Use command\n",
    "* sudo apt-get update\n",
    "* TeXstudio: sudo apt-get install texstudio\n",
    "\n",
    "### For windows users:  download and install\n",
    "* texstudio: https://texstudio.org/\n",
    "* miktex:   https://miktex.org/download\n",
    "[Source:](https://www.texstudio.org/)\n"
   ]
  },
  {
   "cell_type": "markdown",
   "metadata": {},
   "source": [
    "## TeXstudio(Thesis/Report)\n",
    "\n",
    "![img](Th1.png)\n",
    "\n",
    "\n",
    "## TeXstudio(Proposal)\n",
    "![img](Pr.png)\n",
    "\n",
    "![img]{Pr1.png}\n",
    "## TeXstudio(Beamer Presentation)}\n",
    "![img](TS.png)\n",
    "\t\t\n",
    "![img](Be.png)\n",
    "\n"
   ]
  },
  {
   "cell_type": "markdown",
   "metadata": {},
   "source": [
    "## How to type Mathematics\n",
    "![img](HM.png)\n",
    "\n",
    "\t\t"
   ]
  },
  {
   "cell_type": "markdown",
   "metadata": {},
   "source": [
    "## This is my solution\n"
   ]
  },
  {
   "cell_type": "markdown",
   "metadata": {},
   "source": [
    " ![img](EQ1.png)\n",
    " ## x = \\frac{-b \\pm \\sqrt{b^2 - 4ac}}{2a}\n",
    " $x = \\frac{-b \\pm \\sqrt{b^2 - 4ac}}{2a}$\n",
    " \n",
    "##  \\frac{d^2\\psi}{dx^2} + \\frac{2m}{\\hbar^2}(E - V)\\psi = 0\n",
    "$\\frac{d^2\\psi}{dx^2} + \\frac{2m}{\\hbar^2}(E - V)\\psi = 0$\n",
    "    \n",
    "  ![img](EQ.png)\n",
    "\n",
    "\t\t\n",
    "\n",
    "$(\\nabla^{2} - \\frac{1}{c^2}\\frac{{\\partial}^2}{{\\partial}t^2})G(\\textbf{X}-\n",
    "\t\t\t\\textbf{X}', t-t') = - {\\delta}(\\textbf{X}-\\textbf{X}', t-t')\\delta(t - t')$\n"
   ]
  },
  {
   "cell_type": "markdown",
   "metadata": {},
   "source": [
    "## Research Missconduct}\n",
    "![img](MC.png)\n",
    "[Source:](Gilbert, F. J., \\& Denison, A. R. (2003). Research Misconduct. Clinical Radiology, 58(7), 499–504. doi:10.1016/s0009-9260(03)00176-4)"
   ]
  },
  {
   "cell_type": "markdown",
   "metadata": {},
   "source": [
    "## Home Work (Proposal Writing)\n",
    "\n",
    "*  Everybody talking about economy crisis these days in Nepal. Develop a research proposal requesting for research grant to the Research Division of Tribhuvan University on one of the topics related to the economy growth of country like Nepal.\n",
    "*  Modern era is the science and technology era Need of supercomputer is essential in your physics department. Develop a research proposal requesting for grant to the Research Division of University Grant Commission. \n",
    "*  Develop a proposal with essential components for M.Sc. Thesis on any relevant topic related to Interstellar Medium to B.P. Koirala Memorial Planetarium, Science Museum development Board,Nepal"
   ]
  },
  {
   "cell_type": "markdown",
   "metadata": {},
   "source": [
    "                                           *** Thank You Very Much !!!***"
   ]
  },
  {
   "cell_type": "code",
   "execution_count": null,
   "metadata": {},
   "outputs": [],
   "source": []
  }
 ],
 "metadata": {
  "kernelspec": {
   "display_name": "Python 3",
   "language": "python",
   "name": "python3"
  },
  "language_info": {
   "codemirror_mode": {
    "name": "ipython",
    "version": 3
   },
   "file_extension": ".py",
   "mimetype": "text/x-python",
   "name": "python",
   "nbconvert_exporter": "python",
   "pygments_lexer": "ipython3",
   "version": "3.7.6"
  }
 },
 "nbformat": 4,
 "nbformat_minor": 4
}
