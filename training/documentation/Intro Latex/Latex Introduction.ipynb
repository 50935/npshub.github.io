{
 "cells": [
  {
   "cell_type": "markdown",
   "metadata": {},
   "source": [
    "![img](https://upload.wikimedia.org/wikipedia/commons/thumb/4/45/LaTeX_project_logo_bird.svg/1920px-LaTeX_project_logo_bird.svg.png)\n",
    "### LaTeX is a high quality typesetting system which can produce modern technical and scientific documents such as article, report, thesis, term paper, project work, book, and beamer presentation.\n",
    "*  Developed by Leslie B. Lamport (born February 7, 1941) is an American computer scientist.\t\n",
    "![img](https://upload.wikimedia.org/wikipedia/commons/5/50/Leslie_Lamport.jpg)\n",
    "[Link:](https://upload.wikimedia.org/wikipedia/commons/5/50/Leslie_Lamport.jpg)\n",
    "*  Uses commands to create mathematical symbols.\n",
    "* \tMicrosoft Word is based on a principle called ``What you see is what you get''(WYSIWYG), which means that the user immediately sees the document on the screen as it will appear on the printed page.\n",
    "*  LaTeX is based on the principle of ``What you get is what you mean''(WYGIWYM), which implies that the document is not directly displayed on the screen and changes, such as format settings, are not immediately visible.\n",
    "*  The final document is obtained by converting the source file (.tex file) into a pdf file.\n",
    "*  It is widely used in academia for the communication and publication of scientific and technical documents.\n",
    "### References:\n",
    "* Knauff, M., \\& Nejasmic, J., An Efficiency Comparison of Document Preparation Systems Used in Academic Research and Development. PloS one, 9(12), (2014)."
   ]
  },
  {
   "cell_type": "code",
   "execution_count": null,
   "metadata": {},
   "outputs": [],
   "source": [
    "# Why not MS Word?"
   ]
  },
  {
   "cell_type": "markdown",
   "metadata": {},
   "source": [
    "![img](https://www.johndcook.com/wordvslatex.gif)\n",
    "[Image source:](https://www.johndcook.com/wordvslatex.gif)\n",
    "![img](LW.png)"
   ]
  },
  {
   "cell_type": "markdown",
   "metadata": {},
   "source": [
    "# Documents"
   ]
  },
  {
   "cell_type": "markdown",
   "metadata": {},
   "source": [
    "*  Article\n",
    "*  Book\n",
    "* Report\n",
    "* Thesis(Master, PhD)\n",
    "*  Term Paper\n",
    "*  Manual\n",
    "* Tech Report\n",
    "* Project Work\n",
    "*  Miscellaneous"
   ]
  },
  {
   "cell_type": "markdown",
   "metadata": {},
   "source": [
    "## Latex Documents\n",
    "\n",
    "![img](LD.png)"
   ]
  },
  {
   "cell_type": "markdown",
   "metadata": {},
   "source": [
    "## Thesis\n",
    "![img](MT.png)\n",
    "![img](TP.png)"
   ]
  },
  {
   "cell_type": "markdown",
   "metadata": {},
   "source": [
    "## WinEdit"
   ]
  },
  {
   "cell_type": "markdown",
   "metadata": {},
   "source": [
    "\n",
    "WinEdt is a powerful and versatile all-purpose text\n",
    "editor for Windows with a strong predisposition\n",
    "towards the creation and compilation of LaTeX\n",
    "documents...\n",
    "![img](WE1.png)\n",
    "[Source:](https://www.winedt.com/)\n"
   ]
  },
  {
   "cell_type": "markdown",
   "metadata": {},
   "source": [
    "## WinEdit(Cont..)\n",
    "\n"
   ]
  },
  {
   "cell_type": "markdown",
   "metadata": {},
   "source": [
    "![img](WE.png)\n",
    "[Source:](https://www.winedt.com/)"
   ]
  },
  {
   "cell_type": "markdown",
   "metadata": {},
   "source": [
    "## Texmaker\n",
    " Texmaker is a free, modern and cross-platform LaTeX editor\n",
    "for linux, macosx and windows systems that integrates many\n",
    "tools needed to develop documents with LaTeX, in just one\n",
    "application.\n",
    "![img](Te.png)\n",
    "[Source:](https://www.xm1math.net/texmaker/shots.html)\n"
   ]
  },
  {
   "cell_type": "markdown",
   "metadata": {},
   "source": [
    "## TeXstudio\n",
    " TeXstudio is an integrated writing environment for creating LaTeX documents. Our goal is to make writing LaTeX as easy and comfortable as possible. Therefore TeXstudio has numerous features like syntax-highlighting, integrated viewer, reference checking and various assistants.\n",
    "\n",
    "### For Ubuntu Linux:  Use command\n",
    "* sudo apt-get update\n",
    "* TeXstudio: sudo apt-get install texstudio\n",
    "\n",
    "### For windows users:  download and install\n",
    "* texstudio: https://texstudio.org/\n",
    "* miktex:   https://miktex.org/download\n",
    "[Source:](https://www.texstudio.org/)\n"
   ]
  },
  {
   "cell_type": "markdown",
   "metadata": {},
   "source": [
    "## TeXstudio(Thesis/Report)\n",
    "\n",
    "![img](Th1.png)\n",
    "\n",
    "\n",
    "## TeXstudio(Proposal)\n",
    "![img](Pr.png)\n",
    "\n",
    "![img](Pr1.png)\n",
    "## TeXstudio(Beamer Presentation)}\n",
    "![img](TS.png)\n",
    "\t\t\n",
    "![img](Be.png)\n",
    "\n"
   ]
  },
  {
   "cell_type": "markdown",
   "metadata": {},
   "source": [
    "## How to type Mathematics?\n",
    "![img](HM.png)\n",
    "\n",
    "\t\t"
   ]
  },
  {
   "cell_type": "markdown",
   "metadata": {},
   "source": [
    "##  How to type Equations?\n"
   ]
  },
  {
   "cell_type": "markdown",
   "metadata": {},
   "source": [
    " ![img](EQ1.png)\n",
    "\n",
    " $x = \\frac{-b \\pm \\sqrt{b^2 - 4ac}}{2a}$\n",
    "\n",
    "$\\frac{d^2\\psi}{dx^2} + \\frac{2m}{\\hbar^2}(E - V)\\psi = 0$\n",
    "    \n",
    "  ![img](EQ.png)\n",
    "\n",
    "\t\t\n",
    "\n",
    "$(\\nabla^{2} - \\frac{1}{c^2}\\frac{{\\partial}^2}{{\\partial}t^2})G(\\textbf{X}-\n",
    "\t\t\t\\textbf{X}', t-t') = - {\\delta}(\\textbf{X}-\\textbf{X}', t-t')\\delta(t - t')$\n"
   ]
  },
  {
   "cell_type": "markdown",
   "metadata": {},
   "source": [
    "## Research Missconduct\n",
    "![img](MC.png)\n",
    "[Source:](Gilbert, F. J., \\& Denison, A. R. (2003). Research Misconduct. Clinical Radiology, 58(7), 499–504. doi:10.1016/s0009-9260(03)00176-4)"
   ]
  },
  {
   "cell_type": "markdown",
   "metadata": {},
   "source": [
    "## Home Work (Proposal Writing)\n",
    "\n",
    "*  Everybody talking about economy crisis these days in Nepal. Develop a research proposal requesting for research grant to the Research Division of Tribhuvan University on one of the topics related to the economy growth of country like Nepal.\n",
    "*  Modern era is the science and technology era Need of supercomputer is essential in your physics department. Develop a research proposal requesting for grant to the Research Division of University Grant Commission. \n",
    "*  Develop a proposal with essential components for M.Sc. Thesis on any relevant topic related to Interstellar Medium to B.P. Koirala Memorial Planetarium, Science Museum development Board,Nepal"
   ]
  },
  {
   "cell_type": "markdown",
   "metadata": {},
   "source": [
    "                                           *** Thank You Very Much !!!***\n",
    " ![img](Thn.png)"
   ]
  },
  {
   "cell_type": "markdown",
   "metadata": {},
   "source": [
    "## FewThis is the plot of f(x)=$$\\frac{sin{x}}{x}$$\n"
   ]
  },
  {
   "cell_type": "code",
   "execution_count": null,
   "metadata": {},
   "outputs": [],
   "source": [
    "Fe"
   ]
  },
  {
   "cell_type": "code",
   "execution_count": 3,
   "metadata": {},
   "outputs": [
    {
     "data": {
      "image/png": "[encoded data removed]",
      "text/plain": [
       "<Figure size 432x288 with 1 Axes>"
      ]
     },
     "metadata": {
      "needs_background": "light"
     },
     "output_type": "display_data"
    }
   ],
   "source": [
    "#Importing pyplot\n",
    "from matplotlib import pyplot as plt\n",
    "\n",
    "#Plotting to our canvas\n",
    "plt.plot([1,2,3],[4,5,1])\n",
    "\n",
    "#Showing what we plotted\n",
    "plt.show()"
   ]
  },
  {
   "cell_type": "code",
   "execution_count": 5,
   "metadata": {},
   "outputs": [
    {
     "data": {
      "image/png": "[encoded data removed]",
      "text/plain": [
       "<Figure size 432x288 with 1 Axes>"
      ]
     },
     "metadata": {},
     "output_type": "display_data"
    }
   ],
   "source": [
    "from matplotlib import pyplot as plt\n",
    "from matplotlib import style\n",
    "\n",
    "style.use('ggplot')\n",
    "\n",
    "x = [5,8,10]\n",
    "y = [12,16,6]\n",
    "\n",
    "x2 = [6,9,11]\n",
    "y2 = [6,15,7]\n",
    "\n",
    "\n",
    "plt.bar(x, y, align='center')\n",
    "\n",
    "plt.bar(x2, y2, color='g', align='center')\n",
    "\n",
    "\n",
    "plt.title('Epic Info')\n",
    "plt.ylabel('Y axis')\n",
    "plt.xlabel('X axis')\n",
    "\n",
    "plt.show()"
   ]
  },
  {
   "cell_type": "code",
   "execution_count": 9,
   "metadata": {},
   "outputs": [
    {
     "name": "stdout",
     "output_type": "stream",
     "text": [
      "37.5 degree Celsius is equal to 99.5 degree Fahrenheit\n"
     ]
    }
   ],
   "source": [
    "# Python Program to convert temperature in celsius to fahrenheit\n",
    "\n",
    "# change this value for a different result\n",
    "celsius = 37.5\n",
    "\n",
    "# calculate fahrenheit\n",
    "fahrenheit = (celsius * 1.8) + 32\n",
    "print('%0.1f degree Celsius is equal to %0.1f degree Fahrenheit' %(celsius,fahrenheit))"
   ]
  },
  {
   "cell_type": "code",
   "execution_count": null,
   "metadata": {},
   "outputs": [],
   "source": []
  }
 ],
 "metadata": {
  "kernelspec": {
   "display_name": "Python 3",
   "language": "python",
   "name": "python3"
  },
  "language_info": {
   "codemirror_mode": {
    "name": "ipython",
    "version": 3
   },
   "file_extension": ".py",
   "mimetype": "text/x-python",
   "name": "python",
   "nbconvert_exporter": "python",
   "pygments_lexer": "ipython3",
   "version": "3.7.6"
  }
 },
 "nbformat": 4,
 "nbformat_minor": 4
}
